{
 "cells": [
  {
   "cell_type": "code",
   "execution_count": 2,
   "metadata": {
    "collapsed": true
   },
   "outputs": [
    {
     "name": "stderr",
     "output_type": "stream",
     "text": [
      "/home/thaiminhpv/anaconda3/envs/thaiminhpv/lib/python3.9/site-packages/torch/cuda/amp/grad_scaler.py:115: UserWarning: torch.cuda.amp.GradScaler is enabled, but CUDA is not available.  Disabling.\n",
      "  warnings.warn(\"torch.cuda.amp.GradScaler is enabled, but CUDA is not available.  Disabling.\")\n"
     ]
    }
   ],
   "source": [
    "\n",
    "# libraries\n",
    "import os\n",
    "import time\n",
    "import subprocess\n",
    "import numpy as np\n",
    "import pandas as pd\n",
    "import ast\n",
    "import cv2\n",
    "import PIL.Image\n",
    "import matplotlib.pyplot as plt\n",
    "import timm\n",
    "%matplotlib inline\n",
    "import seaborn as sns\n",
    "import torch\n",
    "from torch.utils.data import TensorDataset, DataLoader, Dataset\n",
    "import torch.nn as nn\n",
    "import torch.nn.functional as F\n",
    "import torchvision.transforms as transforms\n",
    "import torch.optim as optim\n",
    "from torch.optim import lr_scheduler\n",
    "from torch.optim.lr_scheduler import StepLR, ReduceLROnPlateau, CosineAnnealingLR\n",
    "# from warmup_scheduler import GradualWarmupScheduler\n",
    "import albumentations\n",
    "import torch.cuda.amp as amp\n",
    "# import segmentation_models_pytorch as smp\n",
    "from tqdm import tqdm\n",
    "\n",
    "scaler = amp.GradScaler()\n",
    "# device = torch.device('cuda')\n",
    "from torchvision.io import read_image\n",
    "\n",
    "TRAIN_DIR = 'dataset/train/train/'\n",
    "\n",
    "device = torch.device('cuda') if torch.cuda.is_available() else torch.device('cpu')\n"
   ]
  },
  {
   "cell_type": "code",
   "execution_count": null,
   "outputs": [],
   "source": [
    "# create pandas dataframe to store the results\n",
    "df = None\n",
    "df = pd.DataFrame(columns=['filepath', 'id', 'labels'])\n",
    "\n",
    "DOGS_TRAIN = os.path.join(TRAIN_DIR, 'dogs')\n",
    "CATS_TRAIN = os.path.join(TRAIN_DIR, 'cats')\n"
   ],
   "metadata": {
    "collapsed": false,
    "pycharm": {
     "name": "#%%\n"
    }
   }
  },
  {
   "cell_type": "code",
   "execution_count": null,
   "outputs": [],
   "source": [
    "\n",
    "for image in os.listdir(DOGS_TRAIN):\n",
    "    # print(os.path.join(DOGS_TRAIN, image))\n",
    "    file_path = os.path.join(DOGS_TRAIN, image)\n",
    "    df = df.append({\n",
    "        'filepath': file_path,\n",
    "        'id': image, 'labels': 1\n",
    "    }, ignore_index=True)\n",
    "\n",
    "for image in os.listdir(CATS_TRAIN):\n",
    "    # print(os.path.join(CATS_TRAIN, image))\n",
    "    file_path = os.path.join(CATS_TRAIN, image)\n",
    "    df = df.append({\n",
    "        'filepath': file_path,\n",
    "        'id': image, 'labels': 0\n",
    "    }, ignore_index=True)\n",
    "# save the dataframe to csv\n",
    "# df.to_csv('train_labels.csv', index=False)"
   ],
   "metadata": {
    "collapsed": false,
    "pycharm": {
     "name": "#%%\n"
    }
   }
  },
  {
   "cell_type": "code",
   "execution_count": 3,
   "outputs": [
    {
     "data": {
      "text/plain": "1    12500\n0    12500\nName: labels, dtype: int64"
     },
     "execution_count": 3,
     "metadata": {},
     "output_type": "execute_result"
    }
   ],
   "source": [
    "\n",
    "df = pd.read_csv('train_labels.csv')\n",
    "df['labels'].value_counts()"
   ],
   "metadata": {
    "collapsed": false,
    "pycharm": {
     "name": "#%%\n"
    }
   }
  },
  {
   "cell_type": "code",
   "execution_count": 5,
   "outputs": [
    {
     "data": {
      "text/plain": "                                     filepath             id  labels\n0       dataset/train/train/dogs/dog.9265.jpg   dog.9265.jpg       1\n1       dataset/train/train/dogs/dog.4445.jpg   dog.4445.jpg       1\n2       dataset/train/train/dogs/dog.3578.jpg   dog.3578.jpg       1\n3       dataset/train/train/dogs/dog.7244.jpg   dog.7244.jpg       1\n4       dataset/train/train/dogs/dog.7907.jpg   dog.7907.jpg       1\n...                                       ...            ...     ...\n24995   dataset/train/train/cats/cat.9419.jpg   cat.9419.jpg       0\n24996   dataset/train/train/cats/cat.3532.jpg   cat.3532.jpg       0\n24997   dataset/train/train/cats/cat.2772.jpg   cat.2772.jpg       0\n24998  dataset/train/train/cats/cat.10915.jpg  cat.10915.jpg       0\n24999   dataset/train/train/cats/cat.1888.jpg   cat.1888.jpg       0\n\n[25000 rows x 3 columns]",
      "text/html": "<div>\n<style scoped>\n    .dataframe tbody tr th:only-of-type {\n        vertical-align: middle;\n    }\n\n    .dataframe tbody tr th {\n        vertical-align: top;\n    }\n\n    .dataframe thead th {\n        text-align: right;\n    }\n</style>\n<table border=\"1\" class=\"dataframe\">\n  <thead>\n    <tr style=\"text-align: right;\">\n      <th></th>\n      <th>filepath</th>\n      <th>id</th>\n      <th>labels</th>\n    </tr>\n  </thead>\n  <tbody>\n    <tr>\n      <th>0</th>\n      <td>dataset/train/train/dogs/dog.9265.jpg</td>\n      <td>dog.9265.jpg</td>\n      <td>1</td>\n    </tr>\n    <tr>\n      <th>1</th>\n      <td>dataset/train/train/dogs/dog.4445.jpg</td>\n      <td>dog.4445.jpg</td>\n      <td>1</td>\n    </tr>\n    <tr>\n      <th>2</th>\n      <td>dataset/train/train/dogs/dog.3578.jpg</td>\n      <td>dog.3578.jpg</td>\n      <td>1</td>\n    </tr>\n    <tr>\n      <th>3</th>\n      <td>dataset/train/train/dogs/dog.7244.jpg</td>\n      <td>dog.7244.jpg</td>\n      <td>1</td>\n    </tr>\n    <tr>\n      <th>4</th>\n      <td>dataset/train/train/dogs/dog.7907.jpg</td>\n      <td>dog.7907.jpg</td>\n      <td>1</td>\n    </tr>\n    <tr>\n      <th>...</th>\n      <td>...</td>\n      <td>...</td>\n      <td>...</td>\n    </tr>\n    <tr>\n      <th>24995</th>\n      <td>dataset/train/train/cats/cat.9419.jpg</td>\n      <td>cat.9419.jpg</td>\n      <td>0</td>\n    </tr>\n    <tr>\n      <th>24996</th>\n      <td>dataset/train/train/cats/cat.3532.jpg</td>\n      <td>cat.3532.jpg</td>\n      <td>0</td>\n    </tr>\n    <tr>\n      <th>24997</th>\n      <td>dataset/train/train/cats/cat.2772.jpg</td>\n      <td>cat.2772.jpg</td>\n      <td>0</td>\n    </tr>\n    <tr>\n      <th>24998</th>\n      <td>dataset/train/train/cats/cat.10915.jpg</td>\n      <td>cat.10915.jpg</td>\n      <td>0</td>\n    </tr>\n    <tr>\n      <th>24999</th>\n      <td>dataset/train/train/cats/cat.1888.jpg</td>\n      <td>cat.1888.jpg</td>\n      <td>0</td>\n    </tr>\n  </tbody>\n</table>\n<p>25000 rows × 3 columns</p>\n</div>"
     },
     "execution_count": 5,
     "metadata": {},
     "output_type": "execute_result"
    }
   ],
   "source": [
    "df"
   ],
   "metadata": {
    "collapsed": false,
    "pycharm": {
     "name": "#%%\n"
    }
   }
  },
  {
   "cell_type": "code",
   "execution_count": 10,
   "outputs": [
    {
     "data": {
      "text/plain": "                                     filepath             id  labels\n6868   dataset/train/train/dogs/dog.11971.jpg  dog.11971.jpg       1\n24016    dataset/train/train/cats/cat.736.jpg    cat.736.jpg       0\n9668    dataset/train/train/dogs/dog.3927.jpg   dog.3927.jpg       1\n13640   dataset/train/train/cats/cat.3634.jpg   cat.3634.jpg       0\n14018   dataset/train/train/cats/cat.6045.jpg   cat.6045.jpg       0\n...                                       ...            ...     ...\n8670   dataset/train/train/dogs/dog.10821.jpg  dog.10821.jpg       1\n11839   dataset/train/train/dogs/dog.5027.jpg   dog.5027.jpg       1\n4013     dataset/train/train/dogs/dog.940.jpg    dog.940.jpg       1\n21147   dataset/train/train/cats/cat.7233.jpg   cat.7233.jpg       0\n695     dataset/train/train/dogs/dog.7113.jpg   dog.7113.jpg       1\n\n[5000 rows x 3 columns]",
      "text/html": "<div>\n<style scoped>\n    .dataframe tbody tr th:only-of-type {\n        vertical-align: middle;\n    }\n\n    .dataframe tbody tr th {\n        vertical-align: top;\n    }\n\n    .dataframe thead th {\n        text-align: right;\n    }\n</style>\n<table border=\"1\" class=\"dataframe\">\n  <thead>\n    <tr style=\"text-align: right;\">\n      <th></th>\n      <th>filepath</th>\n      <th>id</th>\n      <th>labels</th>\n    </tr>\n  </thead>\n  <tbody>\n    <tr>\n      <th>6868</th>\n      <td>dataset/train/train/dogs/dog.11971.jpg</td>\n      <td>dog.11971.jpg</td>\n      <td>1</td>\n    </tr>\n    <tr>\n      <th>24016</th>\n      <td>dataset/train/train/cats/cat.736.jpg</td>\n      <td>cat.736.jpg</td>\n      <td>0</td>\n    </tr>\n    <tr>\n      <th>9668</th>\n      <td>dataset/train/train/dogs/dog.3927.jpg</td>\n      <td>dog.3927.jpg</td>\n      <td>1</td>\n    </tr>\n    <tr>\n      <th>13640</th>\n      <td>dataset/train/train/cats/cat.3634.jpg</td>\n      <td>cat.3634.jpg</td>\n      <td>0</td>\n    </tr>\n    <tr>\n      <th>14018</th>\n      <td>dataset/train/train/cats/cat.6045.jpg</td>\n      <td>cat.6045.jpg</td>\n      <td>0</td>\n    </tr>\n    <tr>\n      <th>...</th>\n      <td>...</td>\n      <td>...</td>\n      <td>...</td>\n    </tr>\n    <tr>\n      <th>8670</th>\n      <td>dataset/train/train/dogs/dog.10821.jpg</td>\n      <td>dog.10821.jpg</td>\n      <td>1</td>\n    </tr>\n    <tr>\n      <th>11839</th>\n      <td>dataset/train/train/dogs/dog.5027.jpg</td>\n      <td>dog.5027.jpg</td>\n      <td>1</td>\n    </tr>\n    <tr>\n      <th>4013</th>\n      <td>dataset/train/train/dogs/dog.940.jpg</td>\n      <td>dog.940.jpg</td>\n      <td>1</td>\n    </tr>\n    <tr>\n      <th>21147</th>\n      <td>dataset/train/train/cats/cat.7233.jpg</td>\n      <td>cat.7233.jpg</td>\n      <td>0</td>\n    </tr>\n    <tr>\n      <th>695</th>\n      <td>dataset/train/train/dogs/dog.7113.jpg</td>\n      <td>dog.7113.jpg</td>\n      <td>1</td>\n    </tr>\n  </tbody>\n</table>\n<p>5000 rows × 3 columns</p>\n</div>"
     },
     "execution_count": 10,
     "metadata": {},
     "output_type": "execute_result"
    }
   ],
   "source": [
    "df.sample(frac=.2, random_state=42)"
   ],
   "metadata": {
    "collapsed": false,
    "pycharm": {
     "name": "#%%\n"
    }
   }
  },
  {
   "cell_type": "code",
   "execution_count": 45,
   "outputs": [],
   "source": [
    "\n",
    "# split df to 5 folds\n",
    "from sklearn.model_selection import KFold\n",
    "# new_df = df.copy(deep=True)\n",
    "new_df = df.sample(frac=1, random_state=42).reset_index(drop=True)\n",
    "kf = KFold(n_splits=5, shuffle=True, random_state=42)"
   ],
   "metadata": {
    "collapsed": false,
    "pycharm": {
     "name": "#%%\n"
    }
   }
  },
  {
   "cell_type": "code",
   "execution_count": 46,
   "outputs": [
    {
     "data": {
      "text/plain": "                                     filepath             id  labels\n0      dataset/train/train/dogs/dog.11971.jpg  dog.11971.jpg       1\n1        dataset/train/train/cats/cat.736.jpg    cat.736.jpg       0\n2       dataset/train/train/dogs/dog.3927.jpg   dog.3927.jpg       1\n3       dataset/train/train/cats/cat.3634.jpg   cat.3634.jpg       0\n4       dataset/train/train/cats/cat.6045.jpg   cat.6045.jpg       0\n...                                       ...            ...     ...\n24995    dataset/train/train/cats/cat.635.jpg    cat.635.jpg       0\n24996   dataset/train/train/dogs/dog.5394.jpg   dog.5394.jpg       1\n24997   dataset/train/train/dogs/dog.1348.jpg   dog.1348.jpg       1\n24998   dataset/train/train/cats/cat.3894.jpg   cat.3894.jpg       0\n24999  dataset/train/train/cats/cat.11404.jpg  cat.11404.jpg       0\n\n[25000 rows x 3 columns]",
      "text/html": "<div>\n<style scoped>\n    .dataframe tbody tr th:only-of-type {\n        vertical-align: middle;\n    }\n\n    .dataframe tbody tr th {\n        vertical-align: top;\n    }\n\n    .dataframe thead th {\n        text-align: right;\n    }\n</style>\n<table border=\"1\" class=\"dataframe\">\n  <thead>\n    <tr style=\"text-align: right;\">\n      <th></th>\n      <th>filepath</th>\n      <th>id</th>\n      <th>labels</th>\n    </tr>\n  </thead>\n  <tbody>\n    <tr>\n      <th>0</th>\n      <td>dataset/train/train/dogs/dog.11971.jpg</td>\n      <td>dog.11971.jpg</td>\n      <td>1</td>\n    </tr>\n    <tr>\n      <th>1</th>\n      <td>dataset/train/train/cats/cat.736.jpg</td>\n      <td>cat.736.jpg</td>\n      <td>0</td>\n    </tr>\n    <tr>\n      <th>2</th>\n      <td>dataset/train/train/dogs/dog.3927.jpg</td>\n      <td>dog.3927.jpg</td>\n      <td>1</td>\n    </tr>\n    <tr>\n      <th>3</th>\n      <td>dataset/train/train/cats/cat.3634.jpg</td>\n      <td>cat.3634.jpg</td>\n      <td>0</td>\n    </tr>\n    <tr>\n      <th>4</th>\n      <td>dataset/train/train/cats/cat.6045.jpg</td>\n      <td>cat.6045.jpg</td>\n      <td>0</td>\n    </tr>\n    <tr>\n      <th>...</th>\n      <td>...</td>\n      <td>...</td>\n      <td>...</td>\n    </tr>\n    <tr>\n      <th>24995</th>\n      <td>dataset/train/train/cats/cat.635.jpg</td>\n      <td>cat.635.jpg</td>\n      <td>0</td>\n    </tr>\n    <tr>\n      <th>24996</th>\n      <td>dataset/train/train/dogs/dog.5394.jpg</td>\n      <td>dog.5394.jpg</td>\n      <td>1</td>\n    </tr>\n    <tr>\n      <th>24997</th>\n      <td>dataset/train/train/dogs/dog.1348.jpg</td>\n      <td>dog.1348.jpg</td>\n      <td>1</td>\n    </tr>\n    <tr>\n      <th>24998</th>\n      <td>dataset/train/train/cats/cat.3894.jpg</td>\n      <td>cat.3894.jpg</td>\n      <td>0</td>\n    </tr>\n    <tr>\n      <th>24999</th>\n      <td>dataset/train/train/cats/cat.11404.jpg</td>\n      <td>cat.11404.jpg</td>\n      <td>0</td>\n    </tr>\n  </tbody>\n</table>\n<p>25000 rows × 3 columns</p>\n</div>"
     },
     "execution_count": 46,
     "metadata": {},
     "output_type": "execute_result"
    }
   ],
   "source": [
    "new_df"
   ],
   "metadata": {
    "collapsed": false,
    "pycharm": {
     "name": "#%%\n"
    }
   }
  },
  {
   "cell_type": "code",
   "execution_count": 52,
   "outputs": [],
   "source": [
    "new_df['fold'] = -1"
   ],
   "metadata": {
    "collapsed": false,
    "pycharm": {
     "name": "#%%\n"
    }
   }
  },
  {
   "cell_type": "code",
   "execution_count": 54,
   "outputs": [],
   "source": [
    "for fold, (train_index, val_index) in enumerate(kf.split(new_df)):\n",
    "    new_df.loc[val_index, 'fold'] = fold\n"
   ],
   "metadata": {
    "collapsed": false,
    "pycharm": {
     "name": "#%%\n"
    }
   }
  },
  {
   "cell_type": "code",
   "execution_count": 56,
   "outputs": [
    {
     "data": {
      "text/plain": "1    5000\n3    5000\n2    5000\n4    5000\n0    5000\nName: fold, dtype: int64"
     },
     "execution_count": 56,
     "metadata": {},
     "output_type": "execute_result"
    }
   ],
   "source": [
    "new_df['fold'].value_counts()"
   ],
   "metadata": {
    "collapsed": false,
    "pycharm": {
     "name": "#%%\n"
    }
   }
  },
  {
   "cell_type": "code",
   "execution_count": 58,
   "outputs": [],
   "source": [
    "# save the dataframe to csv\n",
    "new_df.to_csv('train_labels_5folds.csv', index=False)"
   ],
   "metadata": {
    "collapsed": false,
    "pycharm": {
     "name": "#%%\n"
    }
   }
  },
  {
   "cell_type": "code",
   "execution_count": 41,
   "outputs": [
    {
     "data": {
      "text/plain": "                                     filepath             id  labels\n9       dataset/train/train/dogs/dog.1542.jpg   dog.1542.jpg       1\n11      dataset/train/train/dogs/dog.6650.jpg   dog.6650.jpg       1\n13      dataset/train/train/dogs/dog.3150.jpg   dog.3150.jpg       1\n16      dataset/train/train/dogs/dog.4238.jpg   dog.4238.jpg       1\n24      dataset/train/train/dogs/dog.3405.jpg   dog.3405.jpg       1\n...                                       ...            ...     ...\n24981   dataset/train/train/cats/cat.3043.jpg   cat.3043.jpg       0\n24982  dataset/train/train/cats/cat.12136.jpg  cat.12136.jpg       0\n24989   dataset/train/train/cats/cat.7931.jpg   cat.7931.jpg       0\n24996   dataset/train/train/cats/cat.3532.jpg   cat.3532.jpg       0\n24998  dataset/train/train/cats/cat.10915.jpg  cat.10915.jpg       0\n\n[5000 rows x 3 columns]",
      "text/html": "<div>\n<style scoped>\n    .dataframe tbody tr th:only-of-type {\n        vertical-align: middle;\n    }\n\n    .dataframe tbody tr th {\n        vertical-align: top;\n    }\n\n    .dataframe thead th {\n        text-align: right;\n    }\n</style>\n<table border=\"1\" class=\"dataframe\">\n  <thead>\n    <tr style=\"text-align: right;\">\n      <th></th>\n      <th>filepath</th>\n      <th>id</th>\n      <th>labels</th>\n    </tr>\n  </thead>\n  <tbody>\n    <tr>\n      <th>9</th>\n      <td>dataset/train/train/dogs/dog.1542.jpg</td>\n      <td>dog.1542.jpg</td>\n      <td>1</td>\n    </tr>\n    <tr>\n      <th>11</th>\n      <td>dataset/train/train/dogs/dog.6650.jpg</td>\n      <td>dog.6650.jpg</td>\n      <td>1</td>\n    </tr>\n    <tr>\n      <th>13</th>\n      <td>dataset/train/train/dogs/dog.3150.jpg</td>\n      <td>dog.3150.jpg</td>\n      <td>1</td>\n    </tr>\n    <tr>\n      <th>16</th>\n      <td>dataset/train/train/dogs/dog.4238.jpg</td>\n      <td>dog.4238.jpg</td>\n      <td>1</td>\n    </tr>\n    <tr>\n      <th>24</th>\n      <td>dataset/train/train/dogs/dog.3405.jpg</td>\n      <td>dog.3405.jpg</td>\n      <td>1</td>\n    </tr>\n    <tr>\n      <th>...</th>\n      <td>...</td>\n      <td>...</td>\n      <td>...</td>\n    </tr>\n    <tr>\n      <th>24981</th>\n      <td>dataset/train/train/cats/cat.3043.jpg</td>\n      <td>cat.3043.jpg</td>\n      <td>0</td>\n    </tr>\n    <tr>\n      <th>24982</th>\n      <td>dataset/train/train/cats/cat.12136.jpg</td>\n      <td>cat.12136.jpg</td>\n      <td>0</td>\n    </tr>\n    <tr>\n      <th>24989</th>\n      <td>dataset/train/train/cats/cat.7931.jpg</td>\n      <td>cat.7931.jpg</td>\n      <td>0</td>\n    </tr>\n    <tr>\n      <th>24996</th>\n      <td>dataset/train/train/cats/cat.3532.jpg</td>\n      <td>cat.3532.jpg</td>\n      <td>0</td>\n    </tr>\n    <tr>\n      <th>24998</th>\n      <td>dataset/train/train/cats/cat.10915.jpg</td>\n      <td>cat.10915.jpg</td>\n      <td>0</td>\n    </tr>\n  </tbody>\n</table>\n<p>5000 rows × 3 columns</p>\n</div>"
     },
     "execution_count": 41,
     "metadata": {},
     "output_type": "execute_result"
    }
   ],
   "source": [
    "new_df.iloc[test]"
   ],
   "metadata": {
    "collapsed": false,
    "pycharm": {
     "name": "#%%\n"
    }
   }
  },
  {
   "cell_type": "code",
   "execution_count": 32,
   "outputs": [
    {
     "data": {
      "text/plain": "      filepath id  labels\n0            1  1       1\n1            3  3       3\n2            3  3       3\n3            1  1       1\n4            1  1       1\n...        ... ..     ...\n24995        2  2       2\n24996        4  4       4\n24997        1  1       1\n24998        4  4       4\n24999        0  0       0\n\n[25000 rows x 3 columns]",
      "text/html": "<div>\n<style scoped>\n    .dataframe tbody tr th:only-of-type {\n        vertical-align: middle;\n    }\n\n    .dataframe tbody tr th {\n        vertical-align: top;\n    }\n\n    .dataframe thead th {\n        text-align: right;\n    }\n</style>\n<table border=\"1\" class=\"dataframe\">\n  <thead>\n    <tr style=\"text-align: right;\">\n      <th></th>\n      <th>filepath</th>\n      <th>id</th>\n      <th>labels</th>\n    </tr>\n  </thead>\n  <tbody>\n    <tr>\n      <th>0</th>\n      <td>1</td>\n      <td>1</td>\n      <td>1</td>\n    </tr>\n    <tr>\n      <th>1</th>\n      <td>3</td>\n      <td>3</td>\n      <td>3</td>\n    </tr>\n    <tr>\n      <th>2</th>\n      <td>3</td>\n      <td>3</td>\n      <td>3</td>\n    </tr>\n    <tr>\n      <th>3</th>\n      <td>1</td>\n      <td>1</td>\n      <td>1</td>\n    </tr>\n    <tr>\n      <th>4</th>\n      <td>1</td>\n      <td>1</td>\n      <td>1</td>\n    </tr>\n    <tr>\n      <th>...</th>\n      <td>...</td>\n      <td>...</td>\n      <td>...</td>\n    </tr>\n    <tr>\n      <th>24995</th>\n      <td>2</td>\n      <td>2</td>\n      <td>2</td>\n    </tr>\n    <tr>\n      <th>24996</th>\n      <td>4</td>\n      <td>4</td>\n      <td>4</td>\n    </tr>\n    <tr>\n      <th>24997</th>\n      <td>1</td>\n      <td>1</td>\n      <td>1</td>\n    </tr>\n    <tr>\n      <th>24998</th>\n      <td>4</td>\n      <td>4</td>\n      <td>4</td>\n    </tr>\n    <tr>\n      <th>24999</th>\n      <td>0</td>\n      <td>0</td>\n      <td>0</td>\n    </tr>\n  </tbody>\n</table>\n<p>25000 rows × 3 columns</p>\n</div>"
     },
     "execution_count": 32,
     "metadata": {},
     "output_type": "execute_result"
    }
   ],
   "source": [
    "new_df"
   ],
   "metadata": {
    "collapsed": false,
    "pycharm": {
     "name": "#%%\n"
    }
   }
  },
  {
   "cell_type": "code",
   "execution_count": 24,
   "outputs": [],
   "source": [
    "train_df = new_df.iloc[train]"
   ],
   "metadata": {
    "collapsed": false,
    "pycharm": {
     "name": "#%%\n"
    }
   }
  },
  {
   "cell_type": "code",
   "execution_count": 26,
   "outputs": [
    {
     "data": {
      "text/plain": "0    10016\n1     9984\nName: labels, dtype: int64"
     },
     "execution_count": 26,
     "metadata": {},
     "output_type": "execute_result"
    }
   ],
   "source": [
    "train_df['labels'].value_counts()"
   ],
   "metadata": {
    "collapsed": false,
    "pycharm": {
     "name": "#%%\n"
    }
   }
  },
  {
   "cell_type": "code",
   "execution_count": 28,
   "outputs": [
    {
     "data": {
      "text/plain": "array([   17,    29,    30, ..., 24986, 24988, 24999])"
     },
     "execution_count": 28,
     "metadata": {},
     "output_type": "execute_result"
    }
   ],
   "source": [],
   "metadata": {
    "collapsed": false,
    "pycharm": {
     "name": "#%%\n"
    }
   }
  },
  {
   "cell_type": "code",
   "execution_count": 27,
   "outputs": [
    {
     "data": {
      "text/plain": "1    2516\n0    2484\nName: labels, dtype: int64"
     },
     "execution_count": 27,
     "metadata": {},
     "output_type": "execute_result"
    }
   ],
   "source": [
    "test_df = new_df.iloc[test]\n",
    "test_df['labels'].value_counts()"
   ],
   "metadata": {
    "collapsed": false,
    "pycharm": {
     "name": "#%%\n"
    }
   }
  },
  {
   "cell_type": "code",
   "execution_count": null,
   "outputs": [],
   "source": [],
   "metadata": {
    "collapsed": false,
    "pycharm": {
     "name": "#%%\n"
    }
   }
  },
  {
   "cell_type": "code",
   "execution_count": null,
   "outputs": [],
   "source": [
    "# disable warnings\n",
    "import warnings\n",
    "warnings.filterwarnings('ignore')\n",
    "# plot the distribution of labels\n",
    "sns.countplot(train_df['labels'])\n",
    "# as pie\n",
    "plt.show()\n",
    "plt.pie(train_df['labels'].value_counts(), labels=train_df['labels'].value_counts().index, autopct='%1.1f%%')\n",
    "plt.show()\n",
    "plt.pie(val_df['labels'].value_counts(), labels=val_df['labels'].value_counts().index, autopct='%1.1f%%', shadow=True)\n",
    "plt.show()\n"
   ],
   "metadata": {
    "collapsed": false,
    "pycharm": {
     "name": "#%%\n"
    }
   }
  },
  {
   "cell_type": "code",
   "execution_count": null,
   "outputs": [],
   "source": [
    "# plot the first batch of images\n",
    "fig, ax = plt.subplots(1, len(train_features), figsize=(20, 4))\n",
    "for i in range(len(train_features)):\n",
    "    ax[i].imshow(train_features[i].permute(1, 2, 0).numpy())\n",
    "    ax[i].set_title(train_labels[i].item())\n",
    "    ax[i].axis('off')\n"
   ],
   "metadata": {
    "collapsed": false,
    "pycharm": {
     "name": "#%%\n"
    }
   }
  }
 ],
 "metadata": {
  "kernelspec": {
   "display_name": "Python 3",
   "language": "python",
   "name": "python3"
  },
  "language_info": {
   "codemirror_mode": {
    "name": "ipython",
    "version": 2
   },
   "file_extension": ".py",
   "mimetype": "text/x-python",
   "name": "python",
   "nbconvert_exporter": "python",
   "pygments_lexer": "ipython2",
   "version": "2.7.6"
  }
 },
 "nbformat": 4,
 "nbformat_minor": 0
}