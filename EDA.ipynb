{
 "cells": [
  {
   "cell_type": "code",
   "execution_count": null,
   "metadata": {
    "collapsed": true
   },
   "outputs": [],
   "source": [
    "\n",
    "# libraries\n",
    "import os\n",
    "import time\n",
    "import subprocess\n",
    "import numpy as np\n",
    "import pandas as pd\n",
    "import ast\n",
    "import cv2\n",
    "import PIL.Image\n",
    "import matplotlib.pyplot as plt\n",
    "import timm\n",
    "% matplotlib inline\n",
    "import seaborn as sns\n",
    "import torch\n",
    "from torch.utils.data import TensorDataset, DataLoader, Dataset\n",
    "import torch.nn as nn\n",
    "import torch.nn.functional as F\n",
    "import torchvision.transforms as transforms\n",
    "import torch.optim as optim\n",
    "from torch.optim import lr_scheduler\n",
    "from torch.optim.lr_scheduler import StepLR, ReduceLROnPlateau, CosineAnnealingLR\n",
    "# from warmup_scheduler import GradualWarmupScheduler\n",
    "import albumentations\n",
    "import torch.cuda.amp as amp\n",
    "# import segmentation_models_pytorch as smp\n",
    "from tqdm import tqdm\n",
    "\n",
    "scaler = amp.GradScaler()\n",
    "# device = torch.device('cuda')\n",
    "from torchvision.io import read_image\n",
    "\n",
    "TRAIN_DIR = 'dataset/train/train/'\n",
    "\n",
    "device = torch.device('cuda') if torch.cuda.is_available() else torch.device('cpu')\n"
   ]
  },
  {
   "cell_type": "code",
   "execution_count": null,
   "outputs": [],
   "source": [
    "# create pandas dataframe to store the results\n",
    "df = None\n",
    "df = pd.DataFrame(columns=['filepath', 'id', 'labels'])\n",
    "\n",
    "DOGS_TRAIN = os.path.join(TRAIN_DIR, 'dogs')\n",
    "CATS_TRAIN = os.path.join(TRAIN_DIR, 'cats')\n"
   ],
   "metadata": {
    "collapsed": false,
    "pycharm": {
     "name": "#%%\n"
    }
   }
  },
  {
   "cell_type": "code",
   "execution_count": null,
   "outputs": [],
   "source": [
    "\n",
    "for image in os.listdir(DOGS_TRAIN):\n",
    "    # print(os.path.join(DOGS_TRAIN, image))\n",
    "    file_path = os.path.join(DOGS_TRAIN, image)\n",
    "    df = df.append({\n",
    "        'filepath': file_path,\n",
    "        'id': image, 'labels': 1\n",
    "    }, ignore_index=True)\n",
    "\n",
    "for image in os.listdir(CATS_TRAIN):\n",
    "    # print(os.path.join(CATS_TRAIN, image))\n",
    "    file_path = os.path.join(CATS_TRAIN, image)\n",
    "    df = df.append({\n",
    "        'filepath': file_path,\n",
    "        'id': image, 'labels': 0\n",
    "    }, ignore_index=True)\n",
    "# save the dataframe to csv\n",
    "df.to_csv('train_labels.csv', index=False)"
   ],
   "metadata": {
    "collapsed": false,
    "pycharm": {
     "name": "#%%\n"
    }
   }
  },
  {
   "cell_type": "code",
   "execution_count": null,
   "outputs": [],
   "source": [
    "\n",
    "df['labels'].value_counts()"
   ],
   "metadata": {
    "collapsed": false,
    "pycharm": {
     "name": "#%%\n"
    }
   }
  },
  {
   "cell_type": "code",
   "execution_count": null,
   "outputs": [],
   "source": [
    "# disable warnings\n",
    "import warnings\n",
    "warnings.filterwarnings('ignore')\n",
    "# plot the distribution of labels\n",
    "sns.countplot(train_df['labels'])\n",
    "# as pie\n",
    "plt.show()\n",
    "plt.pie(train_df['labels'].value_counts(), labels=train_df['labels'].value_counts().index, autopct='%1.1f%%')\n",
    "plt.show()\n",
    "plt.pie(val_df['labels'].value_counts(), labels=val_df['labels'].value_counts().index, autopct='%1.1f%%', shadow=True)\n",
    "plt.show()\n"
   ],
   "metadata": {
    "collapsed": false,
    "pycharm": {
     "name": "#%%\n"
    }
   }
  },
  {
   "cell_type": "code",
   "execution_count": null,
   "outputs": [],
   "source": [
    "# plot the first batch of images\n",
    "fig, ax = plt.subplots(1, len(train_features), figsize=(20, 4))\n",
    "for i in range(len(train_features)):\n",
    "    ax[i].imshow(train_features[i].permute(1, 2, 0).numpy())\n",
    "    ax[i].set_title(train_labels[i].item())\n",
    "    ax[i].axis('off')\n"
   ],
   "metadata": {
    "collapsed": false,
    "pycharm": {
     "name": "#%%\n"
    }
   }
  }
 ],
 "metadata": {
  "kernelspec": {
   "display_name": "Python 3",
   "language": "python",
   "name": "python3"
  },
  "language_info": {
   "codemirror_mode": {
    "name": "ipython",
    "version": 2
   },
   "file_extension": ".py",
   "mimetype": "text/x-python",
   "name": "python",
   "nbconvert_exporter": "python",
   "pygments_lexer": "ipython2",
   "version": "2.7.6"
  }
 },
 "nbformat": 4,
 "nbformat_minor": 0
}