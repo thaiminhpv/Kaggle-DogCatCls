{
 "cells": [
  {
   "cell_type": "code",
   "execution_count": null,
   "outputs": [],
   "source": [
    "# from google.colab import drive\n",
    "# drive.mount('/content/drive')\n",
    "#\n",
    "# !ln -s ./drive/MyDrive/Data/DogCatCls/save/ ./save\n",
    "#\n",
    "# %%shell\n",
    "# cp ./drive/MyDrive/Data/DogCatCls/dog-vs-cat-classification.zip .\n",
    "# unzip dog-vs-cat-classification.zip -d dataset > /dev/null\n",
    "#\n",
    "# !cp ./drive/MyDrive/Data/DogCatCls/train_labels.csv .\n",
    "#\n",
    "# !pip3 install timm tqdm\n"
   ],
   "metadata": {
    "collapsed": false,
    "pycharm": {
     "name": "#%%\n"
    }
   }
  },
  {
   "cell_type": "code",
   "execution_count": null,
   "outputs": [],
   "source": [
    "# libraries\n",
    "import os\n",
    "import time\n",
    "import subprocess\n",
    "import numpy as np\n",
    "import pandas as pd\n",
    "import ast\n",
    "import cv2\n",
    "import PIL.Image\n",
    "import matplotlib.pyplot as plt\n",
    "import timm\n",
    "% matplotlib inline\n",
    "import seaborn as sns\n",
    "import torch\n",
    "from torch.utils.data import TensorDataset, DataLoader, Dataset\n",
    "import torch.nn as nn\n",
    "import torch.nn.functional as F\n",
    "import torchvision.transforms as transforms\n",
    "import torch.optim as optim\n",
    "from torch.optim import lr_scheduler\n",
    "from torch.optim.lr_scheduler import StepLR, ReduceLROnPlateau, CosineAnnealingLR\n",
    "# from warmup_scheduler import GradualWarmupScheduler\n",
    "import albumentations\n",
    "import torch.cuda.amp as amp\n",
    "# import segmentation_models_pytorch as smp\n",
    "from tqdm import tqdm\n",
    "\n",
    "scaler = amp.GradScaler()\n",
    "# device = torch.device('cuda')\n",
    "from torchvision.io import read_image\n",
    "\n",
    "TRAIN_DIR = 'dataset/train/train/'\n",
    "\n",
    "device = torch.device('cuda') if torch.cuda.is_available() else torch.device('cpu')\n"
   ],
   "metadata": {
    "collapsed": false,
    "pycharm": {
     "name": "#%%\n"
    }
   }
  },
  {
   "cell_type": "code",
   "execution_count": null,
   "outputs": [],
   "source": [
    "num = 10\n",
    "\n",
    "train_l = []\n",
    "train_ll = []\n",
    "for i in range(1, num):\n",
    "    train_loss = np.load(f'save/loss_epoch_{i}.npy')\n",
    "    # print(np.mean(train_loss))\n",
    "    train_l += train_loss.tolist()\n",
    "    train_ll.append(np.mean(train_loss))\n",
    "\n",
    "val_l = []\n",
    "val_ll = []\n",
    "for i in range(1, num):\n",
    "    val_loss = np.load(f'save/val_loss_epoch_{i}.npy')\n",
    "    # print(np.mean(val_loss))\n",
    "    val_l += val_loss.tolist()\n",
    "    val_ll.append(np.mean(val_loss))"
   ],
   "metadata": {
    "collapsed": false,
    "pycharm": {
     "name": "#%%\n"
    }
   }
  },
  {
   "cell_type": "code",
   "execution_count": null,
   "outputs": [],
   "source": [
    "\n",
    "# plot training curve\n",
    "\n",
    "plt.figure(figsize=(10, 6))\n",
    "plt.plot(train_l, label='train')\n",
    "plt.plot(val_l, label='val')\n",
    "plt.legend()\n",
    "plt.show()\n",
    "\n",
    "plt.figure(figsize=(10, 6))\n",
    "plt.plot(train_ll, label='train')\n",
    "plt.plot(val_ll, label='val')\n",
    "plt.legend()\n",
    "plt.show()\n"
   ],
   "metadata": {
    "collapsed": false,
    "pycharm": {
     "name": "#%%\n"
    }
   }
  }
 ],
 "metadata": {
  "kernelspec": {
   "display_name": "Python 3",
   "language": "python",
   "name": "python3"
  },
  "language_info": {
   "codemirror_mode": {
    "name": "ipython",
    "version": 2
   },
   "file_extension": ".py",
   "mimetype": "text/x-python",
   "name": "python",
   "nbconvert_exporter": "python",
   "pygments_lexer": "ipython2",
   "version": "2.7.6"
  }
 },
 "nbformat": 4,
 "nbformat_minor": 0
}